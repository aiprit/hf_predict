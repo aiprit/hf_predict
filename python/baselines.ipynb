{
 "cells": [
  {
   "cell_type": "code",
   "execution_count": 91,
   "metadata": {},
   "outputs": [],
   "source": [
    "#### bag of words\n",
    "\n",
    "import numpy as np\n",
    "import pandas as pd\n",
    "\n",
    "with open(\"feature_construction_output_old.csv\") as f:\n",
    "    content = f.readlines()\n",
    "# you may also want to remove whitespace characters like `\\n` at the end of each line\n",
    "content = [x.strip().split(\",\") for x in content]\n",
    "flattenedset = list(set([val for sublist in content for val in sublist]))\n",
    "mapping = {}\n",
    "maps = enumerate(flattenedset)\n",
    "## mapping event to index\n",
    "for i,a in maps:\n",
    "    mapping[a] = i\n",
    "\n",
    "train = list()\n",
    "labels = np.zeros(len(content))\n",
    "for listing in content:\n",
    "\n",
    "    seq = np.zeros(len(flattenedset))\n",
    "    for i in range(0,len(listing)):\n",
    "        if i ==0:\n",
    "            continue\n",
    "        else:\n",
    "            seq[mapping[listing[i]]] = seq[mapping[listing[i]]]+1\n",
    "#     print(seq)\n",
    "    train.append(seq)\n",
    "    labels[i-1] = listing[0]\n",
    "sequences = np.array(train)"
   ]
  },
  {
   "cell_type": "code",
   "execution_count": 92,
   "metadata": {},
   "outputs": [
    {
     "data": {
      "text/plain": [
       "(3487, 5133)"
      ]
     },
     "execution_count": 92,
     "metadata": {},
     "output_type": "execute_result"
    }
   ],
   "source": [
    "sequences.shape"
   ]
  },
  {
   "cell_type": "code",
   "execution_count": 93,
   "metadata": {},
   "outputs": [
    {
     "data": {
      "image/png": "[encoded data removed]",
      "text/plain": [
       "<matplotlib.figure.Figure at 0x1a4a6b40f98>"
      ]
     },
     "metadata": {},
     "output_type": "display_data"
    }
   ],
   "source": [
    "from sklearn.linear_model import LogisticRegression\n",
    "import matplotlib.pyplot as plt\n",
    "from sklearn.metrics import roc_curve, auc\n",
    "\n",
    "dataSize = len(labels)\n",
    "ind = np.random.permutation(dataSize)\n",
    "nTest = int(0.20 * dataSize)\n",
    "\n",
    "test_indices = ind[:nTest]\n",
    "train_indices = ind[nTest:]\n",
    "\n",
    "train_set_x = sequences[train_indices]\n",
    "train_set_y = labels[train_indices]\n",
    "test_set_x = sequences[test_indices]\n",
    "test_set_y = labels[test_indices]\n",
    "\n",
    "\n",
    "\n",
    "logistic = LogisticRegression()\n",
    "logistic.fit(train_set_x, train_set_y)\n",
    "pred = logistic.decision_function(test_set_x)\n",
    "false_positive_rate, true_positive_rate, thresholds = roc_curve(test_set_y, pred)\n",
    "roc_auc = auc(false_positive_rate, true_positive_rate)\n",
    "plt.title('ROC Curve ')\n",
    "plt.plot(false_positive_rate, true_positive_rate, 'b',label='AUC = %0.2f'% roc_auc)\n",
    "plt.legend(loc='lower right')\n",
    "plt.plot([0,1],[0,1],'r--')\n",
    "plt.xlim([-0.1,1.2])\n",
    "plt.ylim([-0.1,1.2])\n",
    "plt.ylabel('True Positive Rate')\n",
    "plt.xlabel('False Positive Rate')\n",
    "plt.show()"
   ]
  },
  {
   "cell_type": "code",
   "execution_count": null,
   "metadata": {},
   "outputs": [],
   "source": [
    "from sklearn.ensemble import RandomForestClassifier\n",
    "from sklearn.model_selection import cross_val_score\n",
    "\n",
    "rf = RandomForestClassifier(n_estimators=100, criterion='gini', max_depth=None, min_samples_split=2, \n",
    "                            min_samples_leaf=10, min_weight_fraction_leaf=0.0, max_features='auto',\n",
    "                            max_leaf_nodes=None, min_impurity_split=1e-07, bootstrap=True, oob_score=False,\n",
    "                            n_jobs=1, random_state=None, verbose=0, warm_start=False, class_weight=None)\n",
    "rf.fit(train_set_x, train_set_y)\n",
    "\n",
    "pred = rf.predict_proba(train_set_x)[:,1]\n",
    "false_positive_ratein, true_positive_ratein, thresholds = roc_curve(train_set_y, pred)\n",
    "pred2 = rf.predict_proba(test_set_x)[:,1]\n",
    "false_positive_rate, true_positive_rate, thresholds = roc_curve(test_set_y, pred2)\n",
    "roc_auc = auc(false_positive_rate, true_positive_rate)\n",
    "roc_aucin = auc(false_positive_ratein, true_positive_ratein)\n",
    "print (np.mean(cross_val_score(rf, sequences, labels, cv=10)))\n",
    "\n",
    "plt.title('ROC Curve ')\n",
    "plt.plot(false_positive_rate, true_positive_rate, 'b',label='AUC = %0.2f'% roc_auc)\n",
    "plt.plot(false_positive_ratein, true_positive_ratein, 'green',label='AUC = %0.2f'% roc_aucin)\n",
    "\n",
    "plt.legend(loc='lower right')\n",
    "plt.plot([0,1],[0,1],'r--')\n",
    "plt.xlim([-0.1,1.2])\n",
    "plt.ylim([-0.1,1.2])\n",
    "plt.ylabel('True Positive Rate')\n",
    "plt.xlabel('False Positive Rate')\n",
    "plt.show()"
   ]
  },
  {
   "cell_type": "code",
   "execution_count": 87,
   "metadata": {},
   "outputs": [
    {
     "name": "stdout",
     "output_type": "stream",
     "text": [
      "0.96186127853\n"
     ]
    }
   ],
   "source": [
    "print (np.mean(cross_val_score(rf, sequences, labels, cv=10)))\n"
   ]
  },
  {
   "cell_type": "code",
   "execution_count": 68,
   "metadata": {},
   "outputs": [
    {
     "data": {
      "text/plain": [
       "array([[-0.05501676,  0.08507064,  0.08787768, ..., -0.08666971,\n",
       "        -0.02956244, -0.06337715],\n",
       "       [-0.08420485,  0.14092667, -0.05683822, ..., -0.04276124,\n",
       "         0.23512152, -0.01787003],\n",
       "       [ 0.09531654,  0.04945541,  0.1079405 , ..., -0.00465665,\n",
       "        -0.04654342,  0.05524869],\n",
       "       ..., \n",
       "       [-0.07333235, -0.09149445, -0.06375022, ..., -0.14676589,\n",
       "         0.02244437,  0.08802024],\n",
       "       [-0.09652098, -0.05500998,  0.02559228, ...,  0.09707076,\n",
       "        -0.33103266, -0.11322088],\n",
       "       [ 0.07295729, -0.02026245,  0.0957513 , ...,  0.01947108,\n",
       "         0.07349804, -0.06793858]], dtype=float32)"
      ]
     },
     "execution_count": 68,
     "metadata": {},
     "output_type": "execute_result"
    }
   ],
   "source": [
    "a['U_gru']"
   ]
  },
  {
   "cell_type": "code",
   "execution_count": null,
   "metadata": {
    "collapsed": true
   },
   "outputs": [],
   "source": []
  }
 ],
 "metadata": {
  "anaconda-cloud": {},
  "kernelspec": {
   "display_name": "Python 3",
   "language": "python",
   "name": "python3"
  },
  "language_info": {
   "codemirror_mode": {
    "name": "ipython",
    "version": 3
   },
   "file_extension": ".py",
   "mimetype": "text/x-python",
   "name": "python",
   "nbconvert_exporter": "python",
   "pygments_lexer": "ipython3",
   "version": "3.5.3"
  }
 },
 "nbformat": 4,
 "nbformat_minor": 1
}
